{
 "cells": [
  {
   "cell_type": "code",
   "execution_count": 1,
   "id": "819e4b42-61ba-4c41-bb5d-07df2b92ec53",
   "metadata": {},
   "outputs": [
    {
     "data": {
      "text/plain": [
       "'\\nAGRICONNECT - ANN demo pipeline\\n- Generates synthetic agricultural dataset (local/regional features)\\n- Trains two ANN models:\\n    1) Crop recommendation (classification)\\n    2) Yield estimation (regression)\\n- Saves models and metadata to ./models\\n- Provides a predict function and a small multilingual-friendly QA helper\\nThis file is intended as a runnable prototype for the AGRICONNECT project.\\n'"
      ]
     },
     "execution_count": 1,
     "metadata": {},
     "output_type": "execute_result"
    }
   ],
   "source": [
    "# agriconnect_pipeline.py\n",
    "\"\"\"\n",
    "AGRICONNECT - ANN demo pipeline\n",
    "- Generates synthetic agricultural dataset (local/regional features)\n",
    "- Trains two ANN models:\n",
    "    1) Crop recommendation (classification)\n",
    "    2) Yield estimation (regression)\n",
    "- Saves models and metadata to ./models\n",
    "- Provides a predict function and a small multilingual-friendly QA helper\n",
    "This file is intended as a runnable prototype for the AGRICONNECT project.\n",
    "\"\"\""
   ]
  },
  {
   "cell_type": "code",
   "execution_count": 2,
   "id": "cf784601-255a-427b-bd14-f0caa9a02576",
   "metadata": {},
   "outputs": [],
   "source": [
    "import os\n",
    "import json\n",
    "import numpy as np\n",
    "import pandas as pd\n",
    "import joblib\n",
    "\n",
    "from sklearn.preprocessing import StandardScaler, OneHotEncoder, LabelEncoder\n",
    "from sklearn.compose import ColumnTransformer\n",
    "from sklearn.pipeline import Pipeline\n",
    "from sklearn.neural_network import MLPClassifier, MLPRegressor\n",
    "from sklearn.model_selection import train_test_split\n",
    "from sklearn.metrics import accuracy_score, mean_squared_error"
   ]
  },
  {
   "cell_type": "code",
   "execution_count": 3,
   "id": "64898851-66d3-4a63-9506-f5cdce38d8ae",
   "metadata": {},
   "outputs": [],
   "source": [
    "os.makedirs(\"data\", exist_ok=True)\n",
    "os.makedirs(\"models\", exist_ok=True)"
   ]
  },
  {
   "cell_type": "code",
   "execution_count": 4,
   "id": "a81de900-b8f3-4436-a1e0-5dba9fe097d0",
   "metadata": {},
   "outputs": [],
   "source": [
    "def generate_synthetic_agri_data(n=800, seed=42, out_path=\"data/synthetic_agriconnect.csv\"):\n",
    "    \"\"\"\n",
    "    Create a synthetic dataset that mimics region-level agricultural records.\n",
    "    Columns:\n",
    "      - district: integer id (1..50)\n",
    "      - soil_ph: 5.0 - 8.0\n",
    "      - rainfall_mm: 0 - 500\n",
    "      - temp_c: 15 - 38\n",
    "      - prev_yield: previous season yield (t/ha)\n",
    "      - season: integer code (0,1,2)\n",
    "      - crop: categorical (wheat, rice, maize, soybean, groundnut)\n",
    "      - yield_t: current season yield (t/ha)\n",
    "    Saves CSV to out_path and returns DataFrame.\n",
    "    \"\"\"\n",
    "    np.random.seed(seed)\n",
    "\n",
    "    district = np.random.randint(1, 51, n)\n",
    "    soil_ph = np.round(np.random.uniform(5.0, 8.0, n), 2)\n",
    "    rainfall = np.round(np.random.uniform(0, 500, n), 1)\n",
    "    temp = np.round(np.random.uniform(15, 38, n), 1)\n",
    "    prev_yield = np.round(np.random.uniform(0.5, 4.0, n), 2)\n",
    "    season = np.random.choice([0, 1, 2], n)\n",
    "\n",
    "    crops = ['wheat', 'rice', 'maize', 'soybean', 'groundnut']\n",
    "\n",
    "    # crop suitability scoring (simple heuristic: higher -> more suitable)\n",
    "    crop_scores = np.vstack([\n",
    "        (100 - np.abs(rainfall - 300)) + (20 - np.abs(temp - 22)),  # wheat prefers moderate-high rain, ~22C\n",
    "        (100 - np.abs(rainfall - 80))  + (10 - np.abs(temp - 12)),  # rice prefers lower rain (synthetic here) & low temp\n",
    "        (80  - np.abs(rainfall - 150)) + (15 - np.abs(temp - 25)),  # maize\n",
    "        (70  - np.abs(rainfall - 120)) + (10 - np.abs(temp - 28)),  # soybean\n",
    "        (60  - np.abs(rainfall - 60))  + (12 - np.abs(temp - 30)),  # groundnut\n",
    "    ]).T\n",
    "\n",
    "    crop_idx = crop_scores.argmax(axis=1)\n",
    "    crop = [crops[i] for i in crop_idx]\n",
    "\n",
    "    # base_yield uses prev_yield, rainfall, and soil pH as drivers (toy formula)\n",
    "    base_yield = prev_yield * (1 + (rainfall / 1000.0)) * (8 - np.abs(7 - soil_ph)) / 8.0\n",
    "    crop_factor = np.array([1.0, 1.1, 0.9, 1.05, 0.95])[crop_idx]\n",
    "    yield_t = np.round(base_yield * crop_factor + np.random.normal(0, 0.2, n), 2)\n",
    "    yield_t = np.clip(yield_t, 0.2, None)\n",
    "\n",
    "    df = pd.DataFrame({\n",
    "        'district': district,\n",
    "        'soil_ph': soil_ph,\n",
    "        'rainfall_mm': rainfall,\n",
    "        'temp_c': temp,\n",
    "        'prev_yield': prev_yield,\n",
    "        'season': season,\n",
    "        'crop': crop,\n",
    "        'yield_t': yield_t\n",
    "    })\n",
    "\n",
    "    df.to_csv(out_path, index=False)\n",
    "    return df"
   ]
  },
  {
   "cell_type": "code",
   "execution_count": 5,
   "id": "7eb13aff-2043-45fa-bf34-7064712262bd",
   "metadata": {},
   "outputs": [
    {
     "name": "stdout",
     "output_type": "stream",
     "text": [
      "Generating synthetic AGRICONNECT dataset...\n",
      "Rows generated: 800\n"
     ]
    }
   ],
   "source": [
    "print(\"Generating synthetic AGRICONNECT dataset...\")\n",
    "df = generate_synthetic_agri_data(n=800)\n",
    "print(\"Rows generated:\", len(df))"
   ]
  },
  {
   "cell_type": "code",
   "execution_count": 6,
   "id": "34fceb24-5299-48bc-8df9-84ed3bdba23d",
   "metadata": {},
   "outputs": [],
   "source": [
    "feature_cols = ['district', 'soil_ph', 'rainfall_mm', 'temp_c', 'prev_yield', 'season']\n",
    "X = df[feature_cols]\n",
    "y_crop = df['crop']      # classification target\n",
    "y_yield = df['yield_t']  # regression target"
   ]
  },
  {
   "cell_type": "code",
   "execution_count": 7,
   "id": "e80a541c-8b40-4692-a33c-0dd34f846d9c",
   "metadata": {},
   "outputs": [
    {
     "data": {
      "text/plain": [
       "['models/label_encoder.joblib']"
      ]
     },
     "execution_count": 7,
     "metadata": {},
     "output_type": "execute_result"
    }
   ],
   "source": [
    "# Label-encode crop names and save encoder for later inverse transform\n",
    "le = LabelEncoder()\n",
    "y_crop_enc = le.fit_transform(y_crop)\n",
    "joblib.dump(le, \"models/label_encoder.joblib\")"
   ]
  },
  {
   "cell_type": "code",
   "execution_count": 8,
   "id": "d19aae8f-5800-4aff-93ce-8023a77fec87",
   "metadata": {},
   "outputs": [],
   "source": [
    "# ---------------------------------------------------------------------\n",
    "# Preprocessing pipelines\n",
    "# ---------------------------------------------------------------------\n",
    "num_features = ['soil_ph', 'rainfall_mm', 'temp_c', 'prev_yield']\n",
    "cat_features = ['district', 'season']\n",
    "\n",
    "num_transform = Pipeline([('scaler', StandardScaler())])\n",
    "cat_transform = Pipeline([('ohe', OneHotEncoder(handle_unknown='ignore', sparse_output=False))])\n",
    "\n",
    "preprocessor = ColumnTransformer([\n",
    "    ('num', num_transform, num_features),\n",
    "    ('cat', cat_transform, cat_features)\n",
    "])"
   ]
  },
  {
   "cell_type": "code",
   "execution_count": 9,
   "id": "78affd53-42d7-48b1-8596-dfaa0b7aa80b",
   "metadata": {},
   "outputs": [],
   "source": [
    "# ---------------------------------------------------------------------\n",
    "# Train / Test split\n",
    "# ---------------------------------------------------------------------\n",
    "X_train, X_test, y_crop_train, y_crop_test, y_yield_train, y_yield_test = train_test_split(\n",
    "    X, y_crop_enc, y_yield, test_size=0.2, random_state=42\n",
    ")"
   ]
  },
  {
   "cell_type": "code",
   "execution_count": 10,
   "id": "af238ed0-3e42-4fdf-87e0-db076fe8e44e",
   "metadata": {},
   "outputs": [
    {
     "name": "stdout",
     "output_type": "stream",
     "text": [
      "Training crop classifier (ANN)...\n"
     ]
    },
    {
     "name": "stderr",
     "output_type": "stream",
     "text": [
      "C:\\python3.12\\Lib\\site-packages\\sklearn\\neural_network\\_multilayer_perceptron.py:691: ConvergenceWarning: Stochastic Optimizer: Maximum iterations (150) reached and the optimization hasn't converged yet.\n",
      "  warnings.warn(\n"
     ]
    },
    {
     "data": {
      "text/plain": [
       "['models/ann_crop_classifier.joblib']"
      ]
     },
     "execution_count": 10,
     "metadata": {},
     "output_type": "execute_result"
    }
   ],
   "source": [
    "# ANN classifier pipeline (crop recommendation)\n",
    "# ---------------------------------------------------------------------\n",
    "clf_pipeline = Pipeline([\n",
    "    ('pre', preprocessor),\n",
    "    ('mlp', MLPClassifier(hidden_layer_sizes=(32, 16), max_iter=150, random_state=42))\n",
    "])\n",
    "\n",
    "print(\"Training crop classifier (ANN)...\")\n",
    "clf_pipeline.fit(X_train, y_crop_train)\n",
    "joblib.dump(clf_pipeline, \"models/ann_crop_classifier.joblib\")"
   ]
  },
  {
   "cell_type": "code",
   "execution_count": 11,
   "id": "6b8f1a87-7217-4976-bd03-260e7c672611",
   "metadata": {},
   "outputs": [
    {
     "name": "stdout",
     "output_type": "stream",
     "text": [
      "Training yield regressor (ANN)...\n"
     ]
    },
    {
     "name": "stderr",
     "output_type": "stream",
     "text": [
      "C:\\python3.12\\Lib\\site-packages\\sklearn\\neural_network\\_multilayer_perceptron.py:691: ConvergenceWarning: Stochastic Optimizer: Maximum iterations (150) reached and the optimization hasn't converged yet.\n",
      "  warnings.warn(\n"
     ]
    },
    {
     "data": {
      "text/plain": [
       "['models/ann_yield_regressor.joblib']"
      ]
     },
     "execution_count": 11,
     "metadata": {},
     "output_type": "execute_result"
    }
   ],
   "source": [
    "# ANN regressor pipeline (yield estimation)\n",
    "# ---------------------------------------------------------------------\n",
    "reg_pipeline = Pipeline([\n",
    "    ('pre', preprocessor),\n",
    "    ('mlpr', MLPRegressor(hidden_layer_sizes=(32, 16), max_iter=150, random_state=42))\n",
    "])\n",
    "\n",
    "print(\"Training yield regressor (ANN)...\")\n",
    "reg_pipeline.fit(X_train, y_yield_train)\n",
    "joblib.dump(reg_pipeline, \"models/ann_yield_regressor.joblib\")"
   ]
  },
  {
   "cell_type": "code",
   "execution_count": 12,
   "id": "562fc4f1-08a9-4b48-9339-411e0c0cd12a",
   "metadata": {},
   "outputs": [
    {
     "name": "stdout",
     "output_type": "stream",
     "text": [
      "Evaluation -> Crop accuracy: 0.894, Yield RMSE: 0.332\n"
     ]
    }
   ],
   "source": [
    "# Evaluation\n",
    "# ---------------------------------------------------------------------\n",
    "y_crop_pred = clf_pipeline.predict(X_test)\n",
    "crop_acc = accuracy_score(y_crop_test, y_crop_pred)\n",
    "\n",
    "y_yield_pred = reg_pipeline.predict(X_test)\n",
    "y_mse = mean_squared_error(y_yield_test, y_yield_pred)\n",
    "y_rmse = float(np.sqrt(y_mse))\n",
    "\n",
    "print(f\"Evaluation -> Crop accuracy: {crop_acc:.3f}, Yield RMSE: {y_rmse:.3f}\")"
   ]
  },
  {
   "cell_type": "code",
   "execution_count": 13,
   "id": "f7ed5a05-0611-43aa-bbc2-22f534ed4c34",
   "metadata": {},
   "outputs": [],
   "source": [
    "# Save models metadata\n",
    "# ---------------------------------------------------------------------\n",
    "meta = {\n",
    "    \"project\": \"AGRICONNECT (AGRINOVA)\",\n",
    "    \"description\": \"Prototype ANN-based crop recommendation and yield estimation\",\n",
    "    \"metrics\": {\"crop_accuracy\": float(crop_acc), \"yield_rmse\": float(y_rmse)},\n",
    "    \"artifacts\": {\n",
    "        \"label_encoder\": \"models/label_encoder.joblib\",\n",
    "        \"crop_classifier\": \"models/ann_crop_classifier.joblib\",\n",
    "        \"yield_regressor\": \"models/ann_yield_regressor.joblib\"\n",
    "    }\n",
    "}\n",
    "with open(\"models/meta.json\", \"w\") as f:\n",
    "    json.dump(meta, f, indent=2)"
   ]
  },
  {
   "cell_type": "code",
   "execution_count": 14,
   "id": "49ec134e-7cb3-4f97-970f-17c0ca3db648",
   "metadata": {},
   "outputs": [],
   "source": [
    "# Load saved artifacts for inference (demonstrates persistence)\n",
    "# ---------------------------------------------------------------------\n",
    "label_encoder = joblib.load(\"models/label_encoder.joblib\")\n",
    "clf = joblib.load(\"models/ann_crop_classifier.joblib\")\n",
    "reg = joblib.load(\"models/ann_yield_regressor.joblib\")"
   ]
  },
  {
   "cell_type": "code",
   "execution_count": 17,
   "id": "d053d118-5ed5-4096-a4e0-a32703a74a43",
   "metadata": {},
   "outputs": [],
   "source": [
    "def predict_crop_and_yield(district: int, soil_ph: float, rainfall_mm: float,\n",
    "                           temp_c: float, prev_yield: float, season: int):\n",
    "    \"\"\"\n",
    "    Given feature inputs, returns:\n",
    "      - recommended_crop (string)\n",
    "      - estimated_yield_t_per_ha (float)\n",
    "      - confidence (max predicted probability from classifier, or None if not available)\n",
    "    \"\"\"\n",
    "    X_in = pd.DataFrame([{\n",
    "        'district': int(district),\n",
    "        'soil_ph': float(soil_ph),\n",
    "        'rainfall_mm': float(rainfall_mm),\n",
    "        'temp_c': float(temp_c),\n",
    "        'prev_yield': float(prev_yield),\n",
    "        'season': int(season)\n",
    "    }])\n",
    "\n",
    "    crop_idx = clf.predict(X_in)[0]\n",
    "    crop_name = label_encoder.inverse_transform([crop_idx])[0]\n",
    "\n",
    "    yield_pred = float(reg.predict(X_in)[0])\n",
    "       # classifier probability/confidence if available\n",
    "    conf = None\n",
    "    try:\n",
    "        proba = clf.predict_proba(X_in)[0]\n",
    "        conf = float(proba.max())\n",
    "    except Exception:\n",
    "        conf = None\n",
    "\n",
    "    return {\n",
    "        'recommended_crop': crop_name,\n",
    "        'estimated_yield_t_per_ha': round(yield_pred, 2),\n",
    "        'confidence': conf\n",
    "    }"
   ]
  },
  {
   "cell_type": "code",
   "execution_count": 18,
   "id": "e8231817-d76b-4610-8c99-373dd5d5a9a7",
   "metadata": {},
   "outputs": [],
   "source": [
    "# Simple multilingual-friendly QA (FAQ + rule fallbacks)\n",
    "# ---------------------------------------------------------------------\n",
    "faq_db = {\n",
    "    \"how to apply pm kisan\": \"Visit pmkisan.gov.in and register using Aadhaar-linked bank account. Local CSCs can help with enrollment.\",\n",
    "    \"when to irrigate rice\": \"Irrigate at tillering and panicle initiation stages; avoid irrigating right before forecasted heavy rain.\",\n",
    "    \"where to buy certified seeds\": \"Contact your nearest KVK or authorised seed dealer; Agmarknet lists mandi-level information.\"\n",
    "}"
   ]
  },
  {
   "cell_type": "code",
   "execution_count": 19,
   "id": "6cb510e1-25f2-480b-8c58-7e778ea4cf8e",
   "metadata": {},
   "outputs": [
    {
     "name": "stdout",
     "output_type": "stream",
     "text": [
      "Demo prediction: {'recommended_crop': 'maize', 'estimated_yield_t_per_ha': 1.17, 'confidence': 0.8935137819988276}\n",
      "QA demo (English): {'answer': 'Check recent rainfall forecasts and soil moisture. Prefer irrigation when soil moisture drops below crop-specific thresholds; avoid irrigating if heavy rain is expected.', 'source': 'rule'}\n",
      "QA demo (Hindi-like): {'answer': 'Check recent rainfall forecasts and soil moisture. Prefer irrigation when soil moisture drops below crop-specific thresholds; avoid irrigating if heavy rain is expected.', 'source': 'rule'}\n",
      "Saved models and metadata to ./models/\n"
     ]
    }
   ],
   "source": [
    "\n",
    "def simple_qa(question: str):\n",
    "    \"\"\"\n",
    "    Small QA helper:\n",
    "     - Basic Hindi-to-English keyword mapping (very light)\n",
    "     - Exact-match lookup in faq_db\n",
    "     - Falls back to simple rules for irrigation/prices\n",
    "    \"\"\"\n",
    "    q = question.strip().lower()\n",
    "    # tiny Hindi-like token map (keeps the prototype simple)\n",
    "    hindi_map = {\"pani\": \"irrigat\", \"beej\": \"seed\", \"keemat\": \"price\", \"mandi\": \"market\", \"kab\": \"when\"}\n",
    "    for h, k in hindi_map.items():\n",
    "        if h in q:\n",
    "            q = q.replace(h, k)\n",
    "\n",
    "    # exact-key matching (prototype)\n",
    "    for k in faq_db:\n",
    "        if k in q:\n",
    "            return {\"answer\": faq_db[k], \"source\": \"faq_db\"}\n",
    "\n",
    "    # simple rules\n",
    "    if \"irrigat\" in q or \"water\" in q:\n",
    "        return {\n",
    "            \"answer\": \"Check recent rainfall forecasts and soil moisture. Prefer irrigation when soil moisture drops below crop-specific thresholds; avoid irrigating if heavy rain is expected.\",\n",
    "            \"source\": \"rule\"\n",
    "        }\n",
    "    if \"price\" in q or \"mandi\" in q or \"market\" in q:\n",
    "        return {\n",
    "            \"answer\": \"Use Agmarknet or local mandi reports for up-to-date prices. Contact local mandi/collection center for real-time rates.\",\n",
    "            \"source\": \"rule\"\n",
    "        }\n",
    "\n",
    "    return {\"answer\": \"Sorry, I do not have an answer for that. Try asking about irrigation, prices, or government schemes (e.g., PM Kisan).\", \"source\": \"none\"}\n",
    "\n",
    "# ---------------------------------------------------------------------\n",
    "# Demo usage\n",
    "# ---------------------------------------------------------------------\n",
    "demo_features = {\n",
    "    'district': 12,\n",
    "    'soil_ph': 6.7,\n",
    "    'rainfall_mm': 140.0,\n",
    "    'temp_c': 26.0,\n",
    "    'prev_yield': 1.3,\n",
    "    'season': 0\n",
    "}\n",
    "\n",
    "print(\"Demo prediction:\", predict_crop_and_yield(**demo_features))\n",
    "print(\"QA demo (English):\", simple_qa(\"When should I irrigate rice?\"))\n",
    "print(\"QA demo (Hindi-like):\", simple_qa(\"Pani kab dena chahiye?\"))\n",
    "\n",
    "print(\"Saved models and metadata to ./models/\")"
   ]
  },
  {
   "cell_type": "code",
   "execution_count": null,
   "id": "c50b3ceb-5afe-4803-806a-85a9f7916036",
   "metadata": {},
   "outputs": [],
   "source": [
    "\n"
   ]
  },
  {
   "cell_type": "code",
   "execution_count": 20,
   "id": "db8efaa3-56a3-4b9c-a5ee-f51c6761adb4",
   "metadata": {},
   "outputs": [
    {
     "data": {
      "text/plain": [
       "'\\nAGRICONNECT API - FastAPI backend\\n- Serves ANN crop recommendation + yield estimation\\n- Provides multilingual-friendly QA\\n- Captures user feedback for continuous improvement\\n'"
      ]
     },
     "execution_count": 20,
     "metadata": {},
     "output_type": "execute_result"
    }
   ],
   "source": [
    "# agriconnect_api.py\n",
    "\"\"\"\n",
    "AGRICONNECT API - FastAPI backend\n",
    "- Serves ANN crop recommendation + yield estimation\n",
    "- Provides multilingual-friendly QA\n",
    "- Captures user feedback for continuous improvement\n",
    "\"\"\""
   ]
  },
  {
   "cell_type": "code",
   "execution_count": 21,
   "id": "f82266d6-3830-4e6c-82c4-426411daeac9",
   "metadata": {},
   "outputs": [],
   "source": [
    "from fastapi import FastAPI, Query\n",
    "from pydantic import BaseModel\n",
    "from datetime import datetime"
   ]
  },
  {
   "cell_type": "code",
   "execution_count": 22,
   "id": "a6760501-bc3c-4eee-9837-755a5ac1e1df",
   "metadata": {},
   "outputs": [],
   "source": [
    "# Load trained models & encoder\n",
    "clf = joblib.load(\"models/ann_crop_classifier.joblib\")\n",
    "reg = joblib.load(\"models/ann_yield_regressor.joblib\")\n",
    "label_encoder = joblib.load(\"models/label_encoder.joblib\")"
   ]
  },
  {
   "cell_type": "code",
   "execution_count": 23,
   "id": "bad446d6-57b8-491c-99db-c4c648dd468e",
   "metadata": {},
   "outputs": [],
   "source": [
    "# Initialize FastAPI app\n",
    "app = FastAPI(title=\"AGRICONNECT API\", description=\"AI-powered agricultural advisory backend\", version=\"1.0\")\n"
   ]
  },
  {
   "cell_type": "code",
   "execution_count": 24,
   "id": "1eeda5c9-105f-4e30-b0b9-7a7e099c6702",
   "metadata": {},
   "outputs": [],
   "source": [
    "faq_db = {\n",
    "    \"how to apply pm kisan\": \"Visit pmkisan.gov.in and register using Aadhaar-linked bank account. Local CSCs can help with enrollment.\",\n",
    "    \"when to irrigate rice\": \"Irrigate at tillering and panicle initiation stages; avoid irrigating before forecasted heavy rain.\",\n",
    "    \"where to buy certified seeds\": \"Contact your nearest KVK or authorised seed dealer; Agmarknet lists mandi-level info.\"\n",
    "}"
   ]
  },
  {
   "cell_type": "code",
   "execution_count": 25,
   "id": "3c7a8761-5182-4db3-88ec-c5747946a9bb",
   "metadata": {},
   "outputs": [],
   "source": [
    "def simple_qa(question: str):\n",
    "    q = question.strip().lower()\n",
    "    hindi_map = {\"pani\": \"irrigat\", \"beej\": \"seed\", \"keemat\": \"price\", \"mandi\": \"market\", \"kab\": \"when\"}\n",
    "    for h, k in hindi_map.items():\n",
    "        if h in q:\n",
    "            q = q.replace(h, k)\n",
    "\n",
    "    for k in faq_db:\n",
    "        if k in q:\n",
    "            return {\"answer\": faq_db[k], \"source\": \"faq_db\"}\n",
    "    if \"irrigat\" in q or \"water\" in q:\n",
    "        return {\"answer\": \"Check rainfall forecast & soil moisture; irrigate when moisture is low.\", \"source\": \"rule\"}\n",
    "    if \"price\" in q or \"mandi\" in q or \"market\" in q:\n",
    "        return {\"answer\": \"Check Agmarknet or local mandi reports for latest prices.\", \"source\": \"rule\"}\n",
    "    return {\"answer\": \"Sorry, no answer found. Try asking about irrigation, prices, or PM Kisan.\", \"source\": \"none\"}\n"
   ]
  },
  {
   "cell_type": "code",
   "execution_count": 26,
   "id": "7f56e3f9-0e1f-4f98-a710-b1cfafd7fede",
   "metadata": {},
   "outputs": [],
   "source": [
    "def predict_crop_and_yield(district, soil_ph, rainfall_mm, temp_c, prev_yield, season):\n",
    "    X_in = pd.DataFrame([{\n",
    "        'district': int(district),\n",
    "        'soil_ph': float(soil_ph),\n",
    "        'rainfall_mm': float(rainfall_mm),\n",
    "        'temp_c': float(temp_c),\n",
    "        'prev_yield': float(prev_yield),\n",
    "        'season': int(season)\n",
    "    }])\n",
    "    crop_idx = clf.predict(X_in)[0]\n",
    "    crop_name = label_encoder.inverse_transform([crop_idx])[0]\n",
    "    yield_pred = float(reg.predict(X_in)[0])\n",
    "    try:\n",
    "        proba = clf.predict_proba(X_in)[0]\n",
    "        conf = float(proba.max())\n",
    "    except Exception:\n",
    "        conf = None\n",
    "    return {\"recommended_crop\": crop_name, \"estimated_yield_t_per_ha\": round(yield_pred, 2), \"confidence\": conf}\n"
   ]
  },
  {
   "cell_type": "code",
   "execution_count": 27,
   "id": "817b24c7-6a7a-4bcb-a3ae-d0101f6a6da7",
   "metadata": {},
   "outputs": [],
   "source": [
    "# Request models\n",
    "# ---------------------------\n",
    "class PredictRequest(BaseModel):\n",
    "    district: int\n",
    "    soil_ph: float\n",
    "    rainfall_mm: float\n",
    "    temp_c: float\n",
    "    prev_yield: float\n",
    "    season: int\n",
    "\n",
    "class QARequest(BaseModel):\n",
    "    question: str\n",
    "\n",
    "class FeedbackRequest(BaseModel):\n",
    "    feature_data: dict\n",
    "    prediction: dict\n",
    "    user_feedback: str"
   ]
  },
  {
   "cell_type": "code",
   "execution_count": 28,
   "id": "50b684df-4664-4696-b310-3fbb7fbd7072",
   "metadata": {},
   "outputs": [],
   "source": [
    "# ---------------------------\n",
    "# API Routes\n",
    "# ---------------------------\n",
    "\n",
    "@app.get(\"/\")\n",
    "def root():\n",
    "    return {\"message\": \"Welcome to AGRICONNECT API\", \"status\": \"running\"}\n",
    "\n",
    "@app.post(\"/predict\")\n",
    "def predict_endpoint(req: PredictRequest):\n",
    "    result = predict_crop_and_yield(**req.dict())\n",
    "    return {\"input\": req.dict(), \"prediction\": result}\n",
    "\n",
    "@app.post(\"/qa\")\n",
    "def qa_endpoint(req: QARequest):\n",
    "    result = simple_qa(req.question)\n",
    "    return {\"question\": req.question, \"answer\": result}\n",
    "\n",
    "@app.post(\"/feedback\")\n",
    "def feedback_endpoint(req: FeedbackRequest):\n",
    "    os.makedirs(\"feedback\", exist_ok=True)\n",
    "    feedback_path = \"feedback/user_feedback.csv\"\n",
    "    feedback_df = pd.DataFrame([{\n",
    "        \"timestamp\": datetime.now().isoformat(),\n",
    "        \"feature_data\": json.dumps(req.feature_data),\n",
    "        \"prediction\": json.dumps(req.prediction),\n",
    "        \"user_feedback\": req.user_feedback\n",
    "    }])\n",
    "    if os.path.exists(feedback_path):\n",
    "        feedback_df.to_csv(feedback_path, mode='a', header=False, index=False)\n",
    "    else:\n",
    "        feedback_df.to_csv(feedback_path, index=False)\n",
    "    return {\"status\": \"saved\", \"file\": feedback_path}"
   ]
  },
  {
   "cell_type": "code",
   "execution_count": null,
   "id": "12515faf-90c1-4838-bd8c-312030ad544f",
   "metadata": {},
   "outputs": [],
   "source": [
    "\n"
   ]
  },
  {
   "cell_type": "code",
   "execution_count": 29,
   "id": "3cb38c49-5b93-43d0-ab1b-d768c0c1d40e",
   "metadata": {},
   "outputs": [
    {
     "name": "stdout",
     "output_type": "stream",
     "text": [
      "Requirement already satisfied: streamlit in c:\\python3.12\\lib\\site-packages (1.45.1)\n",
      "Requirement already satisfied: scikit-learn in c:\\python3.12\\lib\\site-packages (1.6.1)\n",
      "Requirement already satisfied: joblib in c:\\python3.12\\lib\\site-packages (1.4.2)\n",
      "Requirement already satisfied: pandas in c:\\python3.12\\lib\\site-packages (2.2.3)\n",
      "Requirement already satisfied: requests in c:\\python3.12\\lib\\site-packages (2.32.3)\n",
      "Requirement already satisfied: altair<6,>=4.0 in c:\\python3.12\\lib\\site-packages (from streamlit) (5.5.0)\n",
      "Requirement already satisfied: blinker<2,>=1.5.0 in c:\\python3.12\\lib\\site-packages (from streamlit) (1.8.2)\n",
      "Requirement already satisfied: cachetools<6,>=4.0 in c:\\python3.12\\lib\\site-packages (from streamlit) (5.5.2)\n",
      "Requirement already satisfied: click<9,>=7.0 in c:\\python3.12\\lib\\site-packages (from streamlit) (8.1.7)\n",
      "Requirement already satisfied: numpy<3,>=1.23 in c:\\python3.12\\lib\\site-packages (from streamlit) (2.1.3)\n",
      "Requirement already satisfied: packaging<25,>=20 in c:\\python3.12\\lib\\site-packages (from streamlit) (24.2)\n",
      "Requirement already satisfied: pillow<12,>=7.1.0 in c:\\python3.12\\lib\\site-packages (from streamlit) (10.3.0)\n",
      "Requirement already satisfied: protobuf<7,>=3.20 in c:\\python3.12\\lib\\site-packages (from streamlit) (5.29.5)\n",
      "Requirement already satisfied: pyarrow>=7.0 in c:\\python3.12\\lib\\site-packages (from streamlit) (20.0.0)\n",
      "Requirement already satisfied: tenacity<10,>=8.1.0 in c:\\python3.12\\lib\\site-packages (from streamlit) (9.1.2)\n",
      "Requirement already satisfied: toml<2,>=0.10.1 in c:\\python3.12\\lib\\site-packages (from streamlit) (0.10.2)\n",
      "Requirement already satisfied: typing-extensions<5,>=4.4.0 in c:\\python3.12\\lib\\site-packages (from streamlit) (4.12.2)\n",
      "Requirement already satisfied: watchdog<7,>=2.1.5 in c:\\python3.12\\lib\\site-packages (from streamlit) (6.0.0)\n",
      "Requirement already satisfied: gitpython!=3.1.19,<4,>=3.0.7 in c:\\python3.12\\lib\\site-packages (from streamlit) (3.1.44)\n",
      "Requirement already satisfied: pydeck<1,>=0.8.0b4 in c:\\python3.12\\lib\\site-packages (from streamlit) (0.9.1)\n",
      "Requirement already satisfied: tornado<7,>=6.0.3 in c:\\python3.12\\lib\\site-packages (from streamlit) (6.4.2)\n",
      "Requirement already satisfied: python-dateutil>=2.8.2 in c:\\python3.12\\lib\\site-packages (from pandas) (2.9.0.post0)\n",
      "Requirement already satisfied: pytz>=2020.1 in c:\\python3.12\\lib\\site-packages (from pandas) (2024.1)\n",
      "Requirement already satisfied: tzdata>=2022.7 in c:\\python3.12\\lib\\site-packages (from pandas) (2024.1)\n",
      "Requirement already satisfied: charset-normalizer<4,>=2 in c:\\python3.12\\lib\\site-packages (from requests) (3.3.2)\n",
      "Requirement already satisfied: idna<4,>=2.5 in c:\\python3.12\\lib\\site-packages (from requests) (3.7)\n",
      "Requirement already satisfied: urllib3<3,>=1.21.1 in c:\\python3.12\\lib\\site-packages (from requests) (2.2.1)\n",
      "Requirement already satisfied: certifi>=2017.4.17 in c:\\python3.12\\lib\\site-packages (from requests) (2024.6.2)\n",
      "Requirement already satisfied: jinja2 in c:\\python3.12\\lib\\site-packages (from altair<6,>=4.0->streamlit) (3.1.4)\n",
      "Requirement already satisfied: jsonschema>=3.0 in c:\\python3.12\\lib\\site-packages (from altair<6,>=4.0->streamlit) (4.23.0)\n",
      "Requirement already satisfied: narwhals>=1.14.2 in c:\\python3.12\\lib\\site-packages (from altair<6,>=4.0->streamlit) (1.41.0)\n",
      "Requirement already satisfied: colorama in c:\\python3.12\\lib\\site-packages (from click<9,>=7.0->streamlit) (0.4.6)\n",
      "Requirement already satisfied: gitdb<5,>=4.0.1 in c:\\python3.12\\lib\\site-packages (from gitpython!=3.1.19,<4,>=3.0.7->streamlit) (4.0.12)\n",
      "Requirement already satisfied: smmap<6,>=3.0.1 in c:\\python3.12\\lib\\site-packages (from gitdb<5,>=4.0.1->gitpython!=3.1.19,<4,>=3.0.7->streamlit) (5.0.2)\n",
      "Requirement already satisfied: scipy>=1.6.0 in c:\\python3.12\\lib\\site-packages (from scikit-learn) (1.15.2)\n",
      "Requirement already satisfied: threadpoolctl>=3.1.0 in c:\\python3.12\\lib\\site-packages (from scikit-learn) (3.5.0)\n",
      "Requirement already satisfied: MarkupSafe>=2.0 in c:\\python3.12\\lib\\site-packages (from jinja2->altair<6,>=4.0->streamlit) (2.1.5)\n",
      "Requirement already satisfied: attrs>=22.2.0 in c:\\python3.12\\lib\\site-packages (from jsonschema>=3.0->altair<6,>=4.0->streamlit) (25.1.0)\n",
      "Requirement already satisfied: jsonschema-specifications>=2023.03.6 in c:\\python3.12\\lib\\site-packages (from jsonschema>=3.0->altair<6,>=4.0->streamlit) (2024.10.1)\n",
      "Requirement already satisfied: referencing>=0.28.4 in c:\\python3.12\\lib\\site-packages (from jsonschema>=3.0->altair<6,>=4.0->streamlit) (0.36.2)\n",
      "Requirement already satisfied: rpds-py>=0.7.1 in c:\\python3.12\\lib\\site-packages (from jsonschema>=3.0->altair<6,>=4.0->streamlit) (0.23.1)\n",
      "Requirement already satisfied: six>=1.5 in c:\\python3.12\\lib\\site-packages (from python-dateutil>=2.8.2->pandas) (1.16.0)\n",
      "Note: you may need to restart the kernel to use updated packages.\n"
     ]
    }
   ],
   "source": [
    "pip install streamlit scikit-learn joblib pandas requests\n"
   ]
  },
  {
   "cell_type": "code",
   "execution_count": 37,
   "id": "41a9f9b9-064f-42d8-bdf3-8a431808fc65",
   "metadata": {},
   "outputs": [],
   "source": [
    "#!streamlit run agriconnect_streamlit.py\n"
   ]
  },
  {
   "cell_type": "code",
   "execution_count": 33,
   "id": "da651f33-fd17-4053-8b77-61bbaaeca3ca",
   "metadata": {},
   "outputs": [
    {
     "name": "stdout",
     "output_type": "stream",
     "text": [
      " Volume in drive C is Windows\n",
      " Volume Serial Number is 3AFB-8EC9\n",
      "\n",
      " Directory of C:\\Users\\aryan\\agriconnect\n",
      "\n",
      "09-08-2025  15:20    <DIR>          .\n",
      "09-08-2025  01:21    <DIR>          ..\n",
      "09-08-2025  15:18    <DIR>          .ipynb_checkpoints\n",
      "09-08-2025  15:20            32,874 agriconnect_streamlit.ipynb\n",
      "09-08-2025  01:44            14,594 code_model_1.ipynb\n",
      "09-08-2025  15:20            32,795 code_model_2.ipynb\n",
      "09-08-2025  14:40    <DIR>          data\n",
      "09-08-2025  01:40    <DIR>          models\n",
      "               3 File(s)         80,263 bytes\n",
      "               5 Dir(s)  16,960,937,984 bytes free\n"
     ]
    }
   ],
   "source": [
    "ls"
   ]
  },
  {
   "cell_type": "code",
   "execution_count": null,
   "id": "60b6240c-92c5-4d8f-a5e3-3e5604fe2f66",
   "metadata": {},
   "outputs": [],
   "source": []
  }
 ],
 "metadata": {
  "kernelspec": {
   "display_name": "Python 3 (ipykernel)",
   "language": "python",
   "name": "python3"
  },
  "language_info": {
   "codemirror_mode": {
    "name": "ipython",
    "version": 3
   },
   "file_extension": ".py",
   "mimetype": "text/x-python",
   "name": "python",
   "nbconvert_exporter": "python",
   "pygments_lexer": "ipython3",
   "version": "3.12.2"
  }
 },
 "nbformat": 4,
 "nbformat_minor": 5
}
